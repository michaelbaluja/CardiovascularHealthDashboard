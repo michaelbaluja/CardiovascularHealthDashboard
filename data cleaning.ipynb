{
 "cells": [
  {
   "cell_type": "code",
   "execution_count": 26,
   "id": "3883fa3b",
   "metadata": {},
   "outputs": [],
   "source": [
    "import pandas as pd\n",
    "import numpy as np\n",
    "import matplotlib.pyplot as plt"
   ]
  },
  {
   "cell_type": "code",
   "execution_count": 5,
   "id": "af6ba664",
   "metadata": {},
   "outputs": [],
   "source": [
    "df = pd.read_csv(\"clean_data.csv\")"
   ]
  },
  {
   "cell_type": "code",
   "execution_count": 6,
   "id": "8ebf1f58",
   "metadata": {},
   "outputs": [
    {
     "data": {
      "text/html": [
       "<div>\n",
       "<style scoped>\n",
       "    .dataframe tbody tr th:only-of-type {\n",
       "        vertical-align: middle;\n",
       "    }\n",
       "\n",
       "    .dataframe tbody tr th {\n",
       "        vertical-align: top;\n",
       "    }\n",
       "\n",
       "    .dataframe thead th {\n",
       "        text-align: right;\n",
       "    }\n",
       "</style>\n",
       "<table border=\"1\" class=\"dataframe\">\n",
       "  <thead>\n",
       "    <tr style=\"text-align: right;\">\n",
       "      <th></th>\n",
       "      <th>Unnamed: 0</th>\n",
       "      <th>id</th>\n",
       "      <th>age</th>\n",
       "      <th>gender</th>\n",
       "      <th>height</th>\n",
       "      <th>weight</th>\n",
       "      <th>ap_hi</th>\n",
       "      <th>ap_lo</th>\n",
       "      <th>cholesterol</th>\n",
       "      <th>gluc</th>\n",
       "      <th>smoke</th>\n",
       "      <th>alco</th>\n",
       "      <th>active</th>\n",
       "      <th>cardio</th>\n",
       "    </tr>\n",
       "  </thead>\n",
       "  <tbody>\n",
       "    <tr>\n",
       "      <th>0</th>\n",
       "      <td>0</td>\n",
       "      <td>0</td>\n",
       "      <td>18393</td>\n",
       "      <td>2</td>\n",
       "      <td>168</td>\n",
       "      <td>62.0</td>\n",
       "      <td>110</td>\n",
       "      <td>80</td>\n",
       "      <td>1</td>\n",
       "      <td>1</td>\n",
       "      <td>0</td>\n",
       "      <td>0</td>\n",
       "      <td>1</td>\n",
       "      <td>0</td>\n",
       "    </tr>\n",
       "    <tr>\n",
       "      <th>1</th>\n",
       "      <td>1</td>\n",
       "      <td>1</td>\n",
       "      <td>20228</td>\n",
       "      <td>1</td>\n",
       "      <td>156</td>\n",
       "      <td>85.0</td>\n",
       "      <td>140</td>\n",
       "      <td>90</td>\n",
       "      <td>3</td>\n",
       "      <td>1</td>\n",
       "      <td>0</td>\n",
       "      <td>0</td>\n",
       "      <td>1</td>\n",
       "      <td>1</td>\n",
       "    </tr>\n",
       "    <tr>\n",
       "      <th>2</th>\n",
       "      <td>2</td>\n",
       "      <td>2</td>\n",
       "      <td>18857</td>\n",
       "      <td>1</td>\n",
       "      <td>165</td>\n",
       "      <td>64.0</td>\n",
       "      <td>130</td>\n",
       "      <td>70</td>\n",
       "      <td>3</td>\n",
       "      <td>1</td>\n",
       "      <td>0</td>\n",
       "      <td>0</td>\n",
       "      <td>0</td>\n",
       "      <td>1</td>\n",
       "    </tr>\n",
       "    <tr>\n",
       "      <th>3</th>\n",
       "      <td>3</td>\n",
       "      <td>3</td>\n",
       "      <td>17623</td>\n",
       "      <td>2</td>\n",
       "      <td>169</td>\n",
       "      <td>82.0</td>\n",
       "      <td>150</td>\n",
       "      <td>100</td>\n",
       "      <td>1</td>\n",
       "      <td>1</td>\n",
       "      <td>0</td>\n",
       "      <td>0</td>\n",
       "      <td>1</td>\n",
       "      <td>1</td>\n",
       "    </tr>\n",
       "    <tr>\n",
       "      <th>4</th>\n",
       "      <td>4</td>\n",
       "      <td>4</td>\n",
       "      <td>17474</td>\n",
       "      <td>1</td>\n",
       "      <td>156</td>\n",
       "      <td>56.0</td>\n",
       "      <td>100</td>\n",
       "      <td>60</td>\n",
       "      <td>1</td>\n",
       "      <td>1</td>\n",
       "      <td>0</td>\n",
       "      <td>0</td>\n",
       "      <td>0</td>\n",
       "      <td>0</td>\n",
       "    </tr>\n",
       "    <tr>\n",
       "      <th>...</th>\n",
       "      <td>...</td>\n",
       "      <td>...</td>\n",
       "      <td>...</td>\n",
       "      <td>...</td>\n",
       "      <td>...</td>\n",
       "      <td>...</td>\n",
       "      <td>...</td>\n",
       "      <td>...</td>\n",
       "      <td>...</td>\n",
       "      <td>...</td>\n",
       "      <td>...</td>\n",
       "      <td>...</td>\n",
       "      <td>...</td>\n",
       "      <td>...</td>\n",
       "    </tr>\n",
       "    <tr>\n",
       "      <th>69995</th>\n",
       "      <td>69995</td>\n",
       "      <td>99993</td>\n",
       "      <td>19240</td>\n",
       "      <td>2</td>\n",
       "      <td>168</td>\n",
       "      <td>76.0</td>\n",
       "      <td>120</td>\n",
       "      <td>80</td>\n",
       "      <td>1</td>\n",
       "      <td>1</td>\n",
       "      <td>1</td>\n",
       "      <td>0</td>\n",
       "      <td>1</td>\n",
       "      <td>0</td>\n",
       "    </tr>\n",
       "    <tr>\n",
       "      <th>69996</th>\n",
       "      <td>69996</td>\n",
       "      <td>99995</td>\n",
       "      <td>22601</td>\n",
       "      <td>1</td>\n",
       "      <td>158</td>\n",
       "      <td>126.0</td>\n",
       "      <td>140</td>\n",
       "      <td>90</td>\n",
       "      <td>2</td>\n",
       "      <td>2</td>\n",
       "      <td>0</td>\n",
       "      <td>0</td>\n",
       "      <td>1</td>\n",
       "      <td>1</td>\n",
       "    </tr>\n",
       "    <tr>\n",
       "      <th>69997</th>\n",
       "      <td>69997</td>\n",
       "      <td>99996</td>\n",
       "      <td>19066</td>\n",
       "      <td>2</td>\n",
       "      <td>183</td>\n",
       "      <td>105.0</td>\n",
       "      <td>180</td>\n",
       "      <td>90</td>\n",
       "      <td>3</td>\n",
       "      <td>1</td>\n",
       "      <td>0</td>\n",
       "      <td>1</td>\n",
       "      <td>0</td>\n",
       "      <td>1</td>\n",
       "    </tr>\n",
       "    <tr>\n",
       "      <th>69998</th>\n",
       "      <td>69998</td>\n",
       "      <td>99998</td>\n",
       "      <td>22431</td>\n",
       "      <td>1</td>\n",
       "      <td>163</td>\n",
       "      <td>72.0</td>\n",
       "      <td>135</td>\n",
       "      <td>80</td>\n",
       "      <td>1</td>\n",
       "      <td>2</td>\n",
       "      <td>0</td>\n",
       "      <td>0</td>\n",
       "      <td>0</td>\n",
       "      <td>1</td>\n",
       "    </tr>\n",
       "    <tr>\n",
       "      <th>69999</th>\n",
       "      <td>69999</td>\n",
       "      <td>99999</td>\n",
       "      <td>20540</td>\n",
       "      <td>1</td>\n",
       "      <td>170</td>\n",
       "      <td>72.0</td>\n",
       "      <td>120</td>\n",
       "      <td>80</td>\n",
       "      <td>2</td>\n",
       "      <td>1</td>\n",
       "      <td>0</td>\n",
       "      <td>0</td>\n",
       "      <td>1</td>\n",
       "      <td>0</td>\n",
       "    </tr>\n",
       "  </tbody>\n",
       "</table>\n",
       "<p>70000 rows × 14 columns</p>\n",
       "</div>"
      ],
      "text/plain": [
       "       Unnamed: 0     id    age  gender  height  weight  ap_hi  ap_lo  \\\n",
       "0               0      0  18393       2     168    62.0    110     80   \n",
       "1               1      1  20228       1     156    85.0    140     90   \n",
       "2               2      2  18857       1     165    64.0    130     70   \n",
       "3               3      3  17623       2     169    82.0    150    100   \n",
       "4               4      4  17474       1     156    56.0    100     60   \n",
       "...           ...    ...    ...     ...     ...     ...    ...    ...   \n",
       "69995       69995  99993  19240       2     168    76.0    120     80   \n",
       "69996       69996  99995  22601       1     158   126.0    140     90   \n",
       "69997       69997  99996  19066       2     183   105.0    180     90   \n",
       "69998       69998  99998  22431       1     163    72.0    135     80   \n",
       "69999       69999  99999  20540       1     170    72.0    120     80   \n",
       "\n",
       "       cholesterol  gluc  smoke  alco  active  cardio  \n",
       "0                1     1      0     0       1       0  \n",
       "1                3     1      0     0       1       1  \n",
       "2                3     1      0     0       0       1  \n",
       "3                1     1      0     0       1       1  \n",
       "4                1     1      0     0       0       0  \n",
       "...            ...   ...    ...   ...     ...     ...  \n",
       "69995            1     1      1     0       1       0  \n",
       "69996            2     2      0     0       1       1  \n",
       "69997            3     1      0     1       0       1  \n",
       "69998            1     2      0     0       0       1  \n",
       "69999            2     1      0     0       1       0  \n",
       "\n",
       "[70000 rows x 14 columns]"
      ]
     },
     "execution_count": 6,
     "metadata": {},
     "output_type": "execute_result"
    }
   ],
   "source": [
    "df"
   ]
  },
  {
   "cell_type": "code",
   "execution_count": 7,
   "id": "6d2899cb",
   "metadata": {},
   "outputs": [
    {
     "data": {
      "text/plain": [
       "Index(['Unnamed: 0', 'id', 'age', 'gender', 'height', 'weight', 'ap_hi',\n",
       "       'ap_lo', 'cholesterol', 'gluc', 'smoke', 'alco', 'active', 'cardio'],\n",
       "      dtype='object')"
      ]
     },
     "execution_count": 7,
     "metadata": {},
     "output_type": "execute_result"
    }
   ],
   "source": [
    "df.columns"
   ]
  },
  {
   "cell_type": "code",
   "execution_count": 8,
   "id": "e3dc6353",
   "metadata": {},
   "outputs": [
    {
     "data": {
      "text/plain": [
       "<bound method NDFrame.head of        Unnamed: 0     id    age  gender  height  weight  ap_hi  ap_lo  \\\n",
       "0               0      0  18393       2     168    62.0    110     80   \n",
       "1               1      1  20228       1     156    85.0    140     90   \n",
       "2               2      2  18857       1     165    64.0    130     70   \n",
       "3               3      3  17623       2     169    82.0    150    100   \n",
       "4               4      4  17474       1     156    56.0    100     60   \n",
       "...           ...    ...    ...     ...     ...     ...    ...    ...   \n",
       "69995       69995  99993  19240       2     168    76.0    120     80   \n",
       "69996       69996  99995  22601       1     158   126.0    140     90   \n",
       "69997       69997  99996  19066       2     183   105.0    180     90   \n",
       "69998       69998  99998  22431       1     163    72.0    135     80   \n",
       "69999       69999  99999  20540       1     170    72.0    120     80   \n",
       "\n",
       "       cholesterol  gluc  smoke  alco  active  cardio  \n",
       "0                1     1      0     0       1       0  \n",
       "1                3     1      0     0       1       1  \n",
       "2                3     1      0     0       0       1  \n",
       "3                1     1      0     0       1       1  \n",
       "4                1     1      0     0       0       0  \n",
       "...            ...   ...    ...   ...     ...     ...  \n",
       "69995            1     1      1     0       1       0  \n",
       "69996            2     2      0     0       1       1  \n",
       "69997            3     1      0     1       0       1  \n",
       "69998            1     2      0     0       0       1  \n",
       "69999            2     1      0     0       1       0  \n",
       "\n",
       "[70000 rows x 14 columns]>"
      ]
     },
     "execution_count": 8,
     "metadata": {},
     "output_type": "execute_result"
    }
   ],
   "source": [
    "df.head"
   ]
  },
  {
   "cell_type": "code",
   "execution_count": 9,
   "id": "c3be10ec",
   "metadata": {},
   "outputs": [
    {
     "name": "stdout",
     "output_type": "stream",
     "text": [
      "<class 'pandas.core.frame.DataFrame'>\n",
      "RangeIndex: 70000 entries, 0 to 69999\n",
      "Data columns (total 14 columns):\n",
      " #   Column       Non-Null Count  Dtype  \n",
      "---  ------       --------------  -----  \n",
      " 0   Unnamed: 0   70000 non-null  int64  \n",
      " 1   id           70000 non-null  int64  \n",
      " 2   age          70000 non-null  int64  \n",
      " 3   gender       70000 non-null  int64  \n",
      " 4   height       70000 non-null  int64  \n",
      " 5   weight       70000 non-null  float64\n",
      " 6   ap_hi        70000 non-null  int64  \n",
      " 7   ap_lo        70000 non-null  int64  \n",
      " 8   cholesterol  70000 non-null  int64  \n",
      " 9   gluc         70000 non-null  int64  \n",
      " 10  smoke        70000 non-null  int64  \n",
      " 11  alco         70000 non-null  int64  \n",
      " 12  active       70000 non-null  int64  \n",
      " 13  cardio       70000 non-null  int64  \n",
      "dtypes: float64(1), int64(13)\n",
      "memory usage: 7.5 MB\n",
      "None\n"
     ]
    }
   ],
   "source": [
    "print(df.info())"
   ]
  },
  {
   "cell_type": "markdown",
   "id": "79a6418c",
   "metadata": {},
   "source": [
    "### Binary Variables Distribution"
   ]
  },
  {
   "cell_type": "code",
   "execution_count": 12,
   "id": "ddc6861d",
   "metadata": {},
   "outputs": [
    {
     "data": {
      "text/plain": [
       "0    63831\n",
       "1     6169\n",
       "Name: smoke, dtype: int64"
      ]
     },
     "execution_count": 12,
     "metadata": {},
     "output_type": "execute_result"
    }
   ],
   "source": [
    "df['smoke'].value_counts()"
   ]
  },
  {
   "cell_type": "code",
   "execution_count": 13,
   "id": "95556a66",
   "metadata": {},
   "outputs": [
    {
     "data": {
      "text/plain": [
       "0    66236\n",
       "1     3764\n",
       "Name: alco, dtype: int64"
      ]
     },
     "execution_count": 13,
     "metadata": {},
     "output_type": "execute_result"
    }
   ],
   "source": [
    "df['alco'].value_counts()"
   ]
  },
  {
   "cell_type": "code",
   "execution_count": 14,
   "id": "2c975e76",
   "metadata": {},
   "outputs": [
    {
     "data": {
      "text/plain": [
       "1    56261\n",
       "0    13739\n",
       "Name: active, dtype: int64"
      ]
     },
     "execution_count": 14,
     "metadata": {},
     "output_type": "execute_result"
    }
   ],
   "source": [
    "df['active'].value_counts()"
   ]
  },
  {
   "cell_type": "code",
   "execution_count": 15,
   "id": "76c5fc21",
   "metadata": {},
   "outputs": [
    {
     "data": {
      "text/plain": [
       "0    35021\n",
       "1    34979\n",
       "Name: cardio, dtype: int64"
      ]
     },
     "execution_count": 15,
     "metadata": {},
     "output_type": "execute_result"
    }
   ],
   "source": [
    "df['cardio'].value_counts()"
   ]
  },
  {
   "cell_type": "markdown",
   "id": "53a66066",
   "metadata": {},
   "source": [
    "### Categorical (3-category) Variables Details"
   ]
  },
  {
   "cell_type": "code",
   "execution_count": 22,
   "id": "449bce65",
   "metadata": {},
   "outputs": [
    {
     "data": {
      "text/plain": [
       "53.33935839530332"
      ]
     },
     "execution_count": 22,
     "metadata": {},
     "output_type": "execute_result"
    }
   ],
   "source": [
    "df['age'].mean()/365 # average age in years"
   ]
  },
  {
   "cell_type": "code",
   "execution_count": 63,
   "id": "d0252b75",
   "metadata": {},
   "outputs": [
    {
     "data": {
      "text/plain": [
       "1    52385\n",
       "2     9549\n",
       "3     8066\n",
       "Name: cholesterol, dtype: int64"
      ]
     },
     "execution_count": 63,
     "metadata": {},
     "output_type": "execute_result"
    }
   ],
   "source": [
    "df['cholesterol'].value_counts()"
   ]
  },
  {
   "cell_type": "code",
   "execution_count": 64,
   "id": "8d3d08e1",
   "metadata": {},
   "outputs": [
    {
     "data": {
      "text/plain": [
       "1    59479\n",
       "3     5331\n",
       "2     5190\n",
       "Name: gluc, dtype: int64"
      ]
     },
     "execution_count": 64,
     "metadata": {},
     "output_type": "execute_result"
    }
   ],
   "source": [
    "df['gluc'].value_counts()"
   ]
  },
  {
   "cell_type": "code",
   "execution_count": 44,
   "id": "996bcd98",
   "metadata": {},
   "outputs": [
    {
     "data": {
      "image/png": "[encoded data removed]",
      "text/plain": [
       "<Figure size 432x288 with 1 Axes>"
      ]
     },
     "metadata": {
      "needs_background": "light"
     },
     "output_type": "display_data"
    }
   ],
   "source": [
    "plt.hist(df['weight'],bins=50)\n",
    "plt.title(\"Histogram of weight data\")\n",
    "plt.xlabel(\"Weight in kgs\")\n",
    "plt.show()"
   ]
  },
  {
   "cell_type": "code",
   "execution_count": 45,
   "id": "eaca7282",
   "metadata": {},
   "outputs": [
    {
     "data": {
      "image/png": "[encoded data removed]",
      "text/plain": [
       "<Figure size 432x288 with 1 Axes>"
      ]
     },
     "metadata": {
      "needs_background": "light"
     },
     "output_type": "display_data"
    }
   ],
   "source": [
    "plt.hist(df['height'],bins=50)\n",
    "plt.title(\"Histogram of height data\")\n",
    "plt.xlabel(\"Height in cms\")\n",
    "plt.show()"
   ]
  },
  {
   "cell_type": "code",
   "execution_count": 51,
   "id": "9b48fbe9",
   "metadata": {},
   "outputs": [
    {
     "data": {
      "image/png": "[encoded data removed]",
      "text/plain": [
       "<Figure size 432x288 with 1 Axes>"
      ]
     },
     "metadata": {
      "needs_background": "light"
     },
     "output_type": "display_data"
    }
   ],
   "source": [
    "plt.hist(df['age in yrs'],bins=100)\n",
    "plt.title(\"Distribution of age\")\n",
    "plt.xlabel(\"Age in years\")\n",
    "plt.show()"
   ]
  },
  {
   "cell_type": "code",
   "execution_count": 58,
   "id": "971dea0e",
   "metadata": {},
   "outputs": [
    {
     "data": {
      "image/png": "[encoded data removed]",
      "text/plain": [
       "<Figure size 432x288 with 1 Axes>"
      ]
     },
     "metadata": {
      "needs_background": "light"
     },
     "output_type": "display_data"
    }
   ],
   "source": [
    "plt.hist(df['ap_lo'],bins=20,range=(0,200))\n",
    "plt.title(\"Distribution of Systolic BP\")\n",
    "plt.xlabel(\"BP\")\n",
    "plt.show()"
   ]
  },
  {
   "cell_type": "code",
   "execution_count": 61,
   "id": "c370cbd2",
   "metadata": {},
   "outputs": [
    {
     "data": {
      "image/png": "[encoded data removed]",
      "text/plain": [
       "<Figure size 432x288 with 1 Axes>"
      ]
     },
     "metadata": {
      "needs_background": "light"
     },
     "output_type": "display_data"
    }
   ],
   "source": [
    "plt.hist(df['ap_hi'],bins=20,range=(0,300))\n",
    "plt.title(\"Distribution of Systolic BP\")\n",
    "plt.xlabel(\"BP\")\n",
    "plt.show()"
   ]
  },
  {
   "cell_type": "code",
   "execution_count": null,
   "id": "7921ed44",
   "metadata": {},
   "outputs": [],
   "source": [
    "plt.hist(df['ap_hi'],bins=20,range=(0,300))\n",
    "plt.title(\"Distribution of Systolic BP\")\n",
    "plt.xlabel(\"BP\")\n",
    "plt.show()"
   ]
  },
  {
   "cell_type": "code",
   "execution_count": 46,
   "id": "65948e34",
   "metadata": {},
   "outputs": [
    {
     "data": {
      "text/plain": [
       "Index(['Unnamed: 0', 'id', 'age', 'gender', 'height', 'weight', 'ap_hi',\n",
       "       'ap_lo', 'cholesterol', 'gluc', 'smoke', 'alco', 'active', 'cardio',\n",
       "       'age in yrs'],\n",
       "      dtype='object')"
      ]
     },
     "execution_count": 46,
     "metadata": {},
     "output_type": "execute_result"
    }
   ],
   "source": [
    "df.columns"
   ]
  },
  {
   "cell_type": "markdown",
   "id": "3d9f7b12",
   "metadata": {},
   "source": [
    "## Exploratory Data Analysis"
   ]
  },
  {
   "cell_type": "markdown",
   "id": "d3d62ae7",
   "metadata": {},
   "source": [
    "### Gender vs Cardio"
   ]
  },
  {
   "cell_type": "code",
   "execution_count": 68,
   "id": "47389553",
   "metadata": {},
   "outputs": [
    {
     "data": {
      "text/plain": [
       "0    0.503273\n",
       "1    0.496727\n",
       "Name: cardio, dtype: float64"
      ]
     },
     "execution_count": 68,
     "metadata": {},
     "output_type": "execute_result"
    }
   ],
   "source": [
    "df[df[\"gender\"] == 1][\"cardio\"].value_counts(normalize=True) #male"
   ]
  },
  {
   "cell_type": "code",
   "execution_count": 69,
   "id": "85ef78d8",
   "metadata": {},
   "outputs": [
    {
     "data": {
      "text/plain": [
       "1    0.505231\n",
       "0    0.494769\n",
       "Name: cardio, dtype: float64"
      ]
     },
     "execution_count": 69,
     "metadata": {},
     "output_type": "execute_result"
    }
   ],
   "source": [
    "df[df[\"gender\"] == 2][\"cardio\"].value_counts(normalize=True) #female"
   ]
  },
  {
   "cell_type": "markdown",
   "id": "695adb76",
   "metadata": {},
   "source": [
    "### Age vs Cardio"
   ]
  },
  {
   "cell_type": "code",
   "execution_count": 76,
   "id": "066a443c",
   "metadata": {},
   "outputs": [
    {
     "data": {
      "image/png": "[encoded data removed]",
      "text/plain": [
       "<Figure size 432x288 with 1 Axes>"
      ]
     },
     "metadata": {
      "needs_background": "light"
     },
     "output_type": "display_data"
    },
    {
     "data": {
      "text/plain": [
       "54.950172686782025"
      ]
     },
     "execution_count": 76,
     "metadata": {},
     "output_type": "execute_result"
    }
   ],
   "source": [
    "plt.hist(df[df[\"cardio\"] == 1][\"age in yrs\"])# has disease\n",
    "plt.show()\n",
    "df[df[\"cardio\"] == 1][\"age in yrs\"].mean()"
   ]
  },
  {
   "cell_type": "code",
   "execution_count": 77,
   "id": "743d5dec",
   "metadata": {},
   "outputs": [
    {
     "data": {
      "image/png": "[encoded data removed]",
      "text/plain": [
       "<Figure size 432x288 with 1 Axes>"
      ]
     },
     "metadata": {
      "needs_background": "light"
     },
     "output_type": "display_data"
    },
    {
     "data": {
      "text/plain": [
       "51.73047592188314"
      ]
     },
     "execution_count": 77,
     "metadata": {},
     "output_type": "execute_result"
    }
   ],
   "source": [
    "plt.hist(df[df[\"cardio\"] == 0][\"age in yrs\"])# no disease\n",
    "plt.show()\n",
    "df[df[\"cardio\"] == 0][\"age in yrs\"].mean()"
   ]
  },
  {
   "cell_type": "markdown",
   "id": "aa7f7eb6",
   "metadata": {},
   "source": [
    "### Systolic BP vs Cardio"
   ]
  },
  {
   "cell_type": "code",
   "execution_count": 104,
   "id": "2389c47c",
   "metadata": {},
   "outputs": [
    {
     "data": {
      "image/png": "[encoded data removed]",
      "text/plain": [
       "<Figure size 432x288 with 1 Axes>"
      ]
     },
     "metadata": {
      "needs_background": "light"
     },
     "output_type": "display_data"
    },
    {
     "data": {
      "text/plain": [
       "109.02392864290003"
      ]
     },
     "execution_count": 104,
     "metadata": {},
     "output_type": "execute_result"
    }
   ],
   "source": [
    "plt.hist(df[df[\"cardio\"] == 1][\"ap_lo\"],bins=20,range=(0,300))# has disease\n",
    "plt.show()\n",
    "df[df[\"cardio\"] == 1][\"ap_lo\"].mean()"
   ]
  },
  {
   "cell_type": "code",
   "execution_count": 105,
   "id": "4c16f6ce",
   "metadata": {},
   "outputs": [
    {
     "data": {
      "image/png": "[encoded data removed]",
      "text/plain": [
       "<Figure size 432x288 with 1 Axes>"
      ]
     },
     "metadata": {
      "needs_background": "light"
     },
     "output_type": "display_data"
    },
    {
     "data": {
      "text/plain": [
       "84.25176322777762"
      ]
     },
     "execution_count": 105,
     "metadata": {},
     "output_type": "execute_result"
    }
   ],
   "source": [
    "plt.hist(df[df[\"cardio\"] == 0][\"ap_lo\"],bins=20,range=(0,300))# no disease\n",
    "plt.show()\n",
    "df[df[\"cardio\"] == 0][\"ap_lo\"].mean()"
   ]
  },
  {
   "cell_type": "code",
   "execution_count": 124,
   "id": "983b6d12",
   "metadata": {},
   "outputs": [
    {
     "data": {
      "image/png": "[encoded data removed]",
      "text/plain": [
       "<Figure size 432x288 with 1 Axes>"
      ]
     },
     "metadata": {
      "needs_background": "light"
     },
     "output_type": "display_data"
    }
   ],
   "source": [
    "probs = []\n",
    "weights = list(range(0,300,5))\n",
    "for weight in range(0,300,5):\n",
    "    probs.append(df[df[\"ap_lo\"] >= weight][\"cardio\"].value_counts(normalize=True)[1])\n",
    "plt.plot(probs)\n",
    "plt.show()"
   ]
  },
  {
   "cell_type": "markdown",
   "id": "f96828d8",
   "metadata": {},
   "source": [
    "### Diastolic BP vs Cardio"
   ]
  },
  {
   "cell_type": "code",
   "execution_count": 106,
   "id": "6eb72031",
   "metadata": {},
   "outputs": [
    {
     "data": {
      "image/png": "[encoded data removed]",
      "text/plain": [
       "<Figure size 432x288 with 1 Axes>"
      ]
     },
     "metadata": {
      "needs_background": "light"
     },
     "output_type": "display_data"
    },
    {
     "data": {
      "text/plain": [
       "137.21204151062065"
      ]
     },
     "execution_count": 106,
     "metadata": {},
     "output_type": "execute_result"
    }
   ],
   "source": [
    "plt.hist(df[df[\"cardio\"] == 1][\"ap_hi\"],bins=20,range=(0,300))# has disease\n",
    "plt.show()\n",
    "df[df[\"cardio\"] == 1][\"ap_hi\"].mean()"
   ]
  },
  {
   "cell_type": "code",
   "execution_count": 107,
   "id": "3688d9ec",
   "metadata": {},
   "outputs": [
    {
     "data": {
      "image/png": "[encoded data removed]",
      "text/plain": [
       "<Figure size 432x288 with 1 Axes>"
      ]
     },
     "metadata": {
      "needs_background": "light"
     },
     "output_type": "display_data"
    },
    {
     "data": {
      "text/plain": [
       "120.43259758430656"
      ]
     },
     "execution_count": 107,
     "metadata": {},
     "output_type": "execute_result"
    }
   ],
   "source": [
    "plt.hist(df[df[\"cardio\"] == 0][\"ap_hi\"],bins=20,range=(0,300))# has disease\n",
    "plt.show()\n",
    "df[df[\"cardio\"] == 0][\"ap_hi\"].mean()"
   ]
  },
  {
   "cell_type": "code",
   "execution_count": 125,
   "id": "e02f3345",
   "metadata": {},
   "outputs": [
    {
     "data": {
      "image/png": "[encoded data removed]",
      "text/plain": [
       "<Figure size 432x288 with 1 Axes>"
      ]
     },
     "metadata": {
      "needs_background": "light"
     },
     "output_type": "display_data"
    }
   ],
   "source": [
    "probs = []\n",
    "weights = list(range(0,500,5))\n",
    "for weight in range(0,500,5):\n",
    "    probs.append(df[df[\"ap_hi\"] >= weight][\"cardio\"].value_counts(normalize=True)[1])\n",
    "plt.plot(probs)\n",
    "plt.show()"
   ]
  },
  {
   "cell_type": "markdown",
   "id": "3d4dd7fb",
   "metadata": {},
   "source": [
    "### Cholesterol vs Cardio"
   ]
  },
  {
   "cell_type": "code",
   "execution_count": 78,
   "id": "46f631a4",
   "metadata": {},
   "outputs": [
    {
     "data": {
      "text/plain": [
       "1    0.659110\n",
       "3    0.176506\n",
       "2    0.164384\n",
       "Name: cholesterol, dtype: float64"
      ]
     },
     "execution_count": 78,
     "metadata": {},
     "output_type": "execute_result"
    }
   ],
   "source": [
    "df[df[\"cardio\"] == 1][\"cholesterol\"].value_counts(normalize=True)"
   ]
  },
  {
   "cell_type": "code",
   "execution_count": 79,
   "id": "15087ee3",
   "metadata": {},
   "outputs": [
    {
     "data": {
      "text/plain": [
       "1    0.837498\n",
       "2    0.108478\n",
       "3    0.054025\n",
       "Name: cholesterol, dtype: float64"
      ]
     },
     "execution_count": 79,
     "metadata": {},
     "output_type": "execute_result"
    }
   ],
   "source": [
    "df[df[\"cardio\"] == 0][\"cholesterol\"].value_counts(normalize=True)"
   ]
  },
  {
   "cell_type": "code",
   "execution_count": 99,
   "id": "43d89557",
   "metadata": {},
   "outputs": [
    {
     "data": {
      "text/plain": [
       "0    0.559893\n",
       "1    0.440107\n",
       "Name: cardio, dtype: float64"
      ]
     },
     "execution_count": 99,
     "metadata": {},
     "output_type": "execute_result"
    }
   ],
   "source": [
    "df[df[\"cholesterol\"] == 1][\"cardio\"].value_counts(normalize=True)"
   ]
  },
  {
   "cell_type": "code",
   "execution_count": 100,
   "id": "c272d875",
   "metadata": {},
   "outputs": [
    {
     "data": {
      "text/plain": [
       "1    0.602157\n",
       "0    0.397843\n",
       "Name: cardio, dtype: float64"
      ]
     },
     "execution_count": 100,
     "metadata": {},
     "output_type": "execute_result"
    }
   ],
   "source": [
    "df[df[\"cholesterol\"] == 2][\"cardio\"].value_counts(normalize=True)"
   ]
  },
  {
   "cell_type": "code",
   "execution_count": 101,
   "id": "e2a5c893",
   "metadata": {},
   "outputs": [
    {
     "data": {
      "text/plain": [
       "1    0.765435\n",
       "0    0.234565\n",
       "Name: cardio, dtype: float64"
      ]
     },
     "execution_count": 101,
     "metadata": {},
     "output_type": "execute_result"
    }
   ],
   "source": [
    "df[df[\"cholesterol\"] == 3][\"cardio\"].value_counts(normalize=True)"
   ]
  },
  {
   "cell_type": "markdown",
   "id": "6d230854",
   "metadata": {},
   "source": [
    "### Glucose Level vs Cardio"
   ]
  },
  {
   "cell_type": "code",
   "execution_count": 86,
   "id": "3d7345bc",
   "metadata": {},
   "outputs": [
    {
     "data": {
      "text/plain": [
       "1    0.817205\n",
       "3    0.094800\n",
       "2    0.087996\n",
       "Name: gluc, dtype: float64"
      ]
     },
     "execution_count": 86,
     "metadata": {},
     "output_type": "execute_result"
    }
   ],
   "source": [
    "df[df[\"cardio\"] == 1][\"gluc\"].value_counts(normalize=True)"
   ]
  },
  {
   "cell_type": "code",
   "execution_count": 87,
   "id": "5438e722",
   "metadata": {},
   "outputs": [
    {
     "data": {
      "text/plain": [
       "1    0.882156\n",
       "2    0.060307\n",
       "3    0.057537\n",
       "Name: gluc, dtype: float64"
      ]
     },
     "execution_count": 87,
     "metadata": {},
     "output_type": "execute_result"
    }
   ],
   "source": [
    "df[df[\"cardio\"] == 0][\"gluc\"].value_counts(normalize=True)"
   ]
  },
  {
   "cell_type": "code",
   "execution_count": 96,
   "id": "9249cd46",
   "metadata": {},
   "outputs": [
    {
     "data": {
      "text/plain": [
       "0    0.51941\n",
       "1    0.48059\n",
       "Name: cardio, dtype: float64"
      ]
     },
     "execution_count": 96,
     "metadata": {},
     "output_type": "execute_result"
    }
   ],
   "source": [
    "df[df[\"gluc\"] == 1][\"cardio\"].value_counts(normalize=True)"
   ]
  },
  {
   "cell_type": "code",
   "execution_count": 97,
   "id": "85b51c3f",
   "metadata": {},
   "outputs": [
    {
     "data": {
      "text/plain": [
       "1    0.593064\n",
       "0    0.406936\n",
       "Name: cardio, dtype: float64"
      ]
     },
     "execution_count": 97,
     "metadata": {},
     "output_type": "execute_result"
    }
   ],
   "source": [
    "df[df[\"gluc\"] == 2][\"cardio\"].value_counts(normalize=True)"
   ]
  },
  {
   "cell_type": "code",
   "execution_count": 98,
   "id": "5c3ac528",
   "metadata": {},
   "outputs": [
    {
     "data": {
      "text/plain": [
       "1    0.622022\n",
       "0    0.377978\n",
       "Name: cardio, dtype: float64"
      ]
     },
     "execution_count": 98,
     "metadata": {},
     "output_type": "execute_result"
    }
   ],
   "source": [
    "df[df[\"gluc\"] == 3][\"cardio\"].value_counts(normalize=True)"
   ]
  },
  {
   "cell_type": "markdown",
   "id": "9d2368f4",
   "metadata": {},
   "source": [
    "### Smoke vs Cardio"
   ]
  },
  {
   "cell_type": "code",
   "execution_count": 80,
   "id": "455a0415",
   "metadata": {},
   "outputs": [
    {
     "data": {
      "text/plain": [
       "0    0.916264\n",
       "1    0.083736\n",
       "Name: smoke, dtype: float64"
      ]
     },
     "execution_count": 80,
     "metadata": {},
     "output_type": "execute_result"
    }
   ],
   "source": [
    "df[df[\"cardio\"] == 1][\"smoke\"].value_counts(normalize=True)"
   ]
  },
  {
   "cell_type": "code",
   "execution_count": 81,
   "id": "40f6e017",
   "metadata": {},
   "outputs": [
    {
     "data": {
      "text/plain": [
       "0    0.907484\n",
       "1    0.092516\n",
       "Name: smoke, dtype: float64"
      ]
     },
     "execution_count": 81,
     "metadata": {},
     "output_type": "execute_result"
    }
   ],
   "source": [
    "df[df[\"cardio\"] == 0][\"smoke\"].value_counts(normalize=True)"
   ]
  },
  {
   "cell_type": "code",
   "execution_count": 94,
   "id": "e64ca312",
   "metadata": {},
   "outputs": [
    {
     "data": {
      "text/plain": [
       "0    0.525207\n",
       "1    0.474793\n",
       "Name: cardio, dtype: float64"
      ]
     },
     "execution_count": 94,
     "metadata": {},
     "output_type": "execute_result"
    }
   ],
   "source": [
    "df[df[\"smoke\"] == 1][\"cardio\"].value_counts(normalize=True)"
   ]
  },
  {
   "cell_type": "code",
   "execution_count": 95,
   "id": "9b99e42d",
   "metadata": {},
   "outputs": [
    {
     "data": {
      "text/plain": [
       "1    0.502107\n",
       "0    0.497893\n",
       "Name: cardio, dtype: float64"
      ]
     },
     "execution_count": 95,
     "metadata": {},
     "output_type": "execute_result"
    }
   ],
   "source": [
    "df[df[\"smoke\"] == 0][\"cardio\"].value_counts(normalize=True)"
   ]
  },
  {
   "cell_type": "markdown",
   "id": "3da88c42",
   "metadata": {},
   "source": [
    "### Activity vs Cardio"
   ]
  },
  {
   "cell_type": "code",
   "execution_count": 83,
   "id": "03e588ce",
   "metadata": {},
   "outputs": [
    {
     "data": {
      "text/plain": [
       "1    0.789559\n",
       "0    0.210441\n",
       "Name: active, dtype: float64"
      ]
     },
     "execution_count": 83,
     "metadata": {},
     "output_type": "execute_result"
    }
   ],
   "source": [
    "df[df[\"cardio\"] == 1][\"active\"].value_counts(normalize=True)"
   ]
  },
  {
   "cell_type": "code",
   "execution_count": 84,
   "id": "94ff215c",
   "metadata": {},
   "outputs": [
    {
     "data": {
      "text/plain": [
       "1    0.817881\n",
       "0    0.182119\n",
       "Name: active, dtype: float64"
      ]
     },
     "execution_count": 84,
     "metadata": {},
     "output_type": "execute_result"
    }
   ],
   "source": [
    "df[df[\"cardio\"] == 0][\"active\"].value_counts(normalize=True)"
   ]
  },
  {
   "cell_type": "code",
   "execution_count": 92,
   "id": "649ba38d",
   "metadata": {},
   "outputs": [
    {
     "data": {
      "text/plain": [
       "0    0.509109\n",
       "1    0.490891\n",
       "Name: cardio, dtype: float64"
      ]
     },
     "execution_count": 92,
     "metadata": {},
     "output_type": "execute_result"
    }
   ],
   "source": [
    "df[df[\"active\"] == 1][\"cardio\"].value_counts(normalize=True)"
   ]
  },
  {
   "cell_type": "code",
   "execution_count": 93,
   "id": "17ce4901",
   "metadata": {},
   "outputs": [
    {
     "data": {
      "text/plain": [
       "1    0.535774\n",
       "0    0.464226\n",
       "Name: cardio, dtype: float64"
      ]
     },
     "execution_count": 93,
     "metadata": {},
     "output_type": "execute_result"
    }
   ],
   "source": [
    "df[df[\"active\"] == 0][\"cardio\"].value_counts(normalize=True)"
   ]
  },
  {
   "cell_type": "markdown",
   "id": "50c67106",
   "metadata": {},
   "source": [
    "### Alcohol consumption vs Cardio"
   ]
  },
  {
   "cell_type": "code",
   "execution_count": 88,
   "id": "9f55b339",
   "metadata": {},
   "outputs": [
    {
     "data": {
      "text/plain": [
       "0    0.947883\n",
       "1    0.052117\n",
       "Name: alco, dtype: float64"
      ]
     },
     "execution_count": 88,
     "metadata": {},
     "output_type": "execute_result"
    }
   ],
   "source": [
    "df[df[\"cardio\"] == 1][\"alco\"].value_counts(normalize=True)"
   ]
  },
  {
   "cell_type": "code",
   "execution_count": 89,
   "id": "18db98ad",
   "metadata": {},
   "outputs": [
    {
     "data": {
      "text/plain": [
       "0    0.944576\n",
       "1    0.055424\n",
       "Name: alco, dtype: float64"
      ]
     },
     "execution_count": 89,
     "metadata": {},
     "output_type": "execute_result"
    }
   ],
   "source": [
    "df[df[\"cardio\"] == 0][\"alco\"].value_counts(normalize=True)"
   ]
  },
  {
   "cell_type": "code",
   "execution_count": 90,
   "id": "6ca1ecb7",
   "metadata": {},
   "outputs": [
    {
     "data": {
      "text/plain": [
       "0    0.515675\n",
       "1    0.484325\n",
       "Name: cardio, dtype: float64"
      ]
     },
     "execution_count": 90,
     "metadata": {},
     "output_type": "execute_result"
    }
   ],
   "source": [
    "df[df[\"alco\"] == 1][\"cardio\"].value_counts(normalize=True)"
   ]
  },
  {
   "cell_type": "code",
   "execution_count": 91,
   "id": "884c9f47",
   "metadata": {},
   "outputs": [
    {
     "data": {
      "text/plain": [
       "1    0.500574\n",
       "0    0.499426\n",
       "Name: cardio, dtype: float64"
      ]
     },
     "execution_count": 91,
     "metadata": {},
     "output_type": "execute_result"
    }
   ],
   "source": [
    "df[df[\"alco\"] == 0][\"cardio\"].value_counts(normalize=True)"
   ]
  },
  {
   "cell_type": "markdown",
   "id": "d7295749",
   "metadata": {},
   "source": [
    "### Weight vs Cardio"
   ]
  },
  {
   "cell_type": "code",
   "execution_count": 108,
   "id": "0ec343d7",
   "metadata": {},
   "outputs": [
    {
     "data": {
      "image/png": "[encoded data removed]",
      "text/plain": [
       "<Figure size 432x288 with 1 Axes>"
      ]
     },
     "metadata": {
      "needs_background": "light"
     },
     "output_type": "display_data"
    },
    {
     "data": {
      "text/plain": [
       "76.82236770633808"
      ]
     },
     "execution_count": 108,
     "metadata": {},
     "output_type": "execute_result"
    }
   ],
   "source": [
    "plt.hist(df[df[\"cardio\"] == 1][\"weight\"])# has disease\n",
    "plt.show()\n",
    "df[df[\"cardio\"] == 1][\"weight\"].mean()"
   ]
  },
  {
   "cell_type": "code",
   "execution_count": 109,
   "id": "c9861e3e",
   "metadata": {},
   "outputs": [
    {
     "data": {
      "image/png": "[encoded data removed]",
      "text/plain": [
       "<Figure size 432x288 with 1 Axes>"
      ]
     },
     "metadata": {
      "needs_background": "light"
     },
     "output_type": "display_data"
    },
    {
     "data": {
      "text/plain": [
       "71.59215042403129"
      ]
     },
     "execution_count": 109,
     "metadata": {},
     "output_type": "execute_result"
    }
   ],
   "source": [
    "plt.hist(df[df[\"cardio\"] == 0][\"weight\"])# no disease\n",
    "plt.show()\n",
    "df[df[\"cardio\"] == 0][\"weight\"].mean()"
   ]
  },
  {
   "cell_type": "code",
   "execution_count": 118,
   "id": "9cc9997b",
   "metadata": {},
   "outputs": [
    {
     "data": {
      "image/png": "[encoded data removed]",
      "text/plain": [
       "<Figure size 432x288 with 1 Axes>"
      ]
     },
     "metadata": {
      "needs_background": "light"
     },
     "output_type": "display_data"
    }
   ],
   "source": [
    "probs = []\n",
    "weights = list(range(40,200,2))\n",
    "for weight in range(40,200,2):\n",
    "    probs.append(df[df[\"weight\"] >= weight][\"cardio\"].value_counts(normalize=True)[1])\n",
    "plt.plot(probs)\n",
    "plt.show()"
   ]
  }
 ],
 "metadata": {
  "kernelspec": {
   "display_name": "Python 3 (clean)",
   "language": "python",
   "name": "python3_clean"
  },
  "language_info": {
   "codemirror_mode": {
    "name": "ipython",
    "version": 3
   },
   "file_extension": ".py",
   "mimetype": "text/x-python",
   "name": "python",
   "nbconvert_exporter": "python",
   "pygments_lexer": "ipython3",
   "version": "3.9.5"
  }
 },
 "nbformat": 4,
 "nbformat_minor": 5
}
